{
 "cells": [
  {
   "cell_type": "code",
   "execution_count": 20,
   "id": "31217d12-7bca-4d64-9054-24ac5c8a8b5a",
   "metadata": {},
   "outputs": [
    {
     "name": "stdin",
     "output_type": "stream",
     "text": [
      "Enter a number: 2\n",
      "Enter a number: 3\n",
      "Enter a number: 0\n",
      "Enter a number: 1\n",
      "Enter a number: 9\n"
     ]
    },
    {
     "name": "stdout",
     "output_type": "stream",
     "text": [
      "Minimum value: 0\n",
      "Maxinum value: 9\n",
      "Average: 3.0\n"
     ]
    }
   ],
   "source": [
    "#Functions\n",
    "        \n",
    "num_list=[]\n",
    "for i in range(0,5):\n",
    "    num_list.append(int(input(\"Enter a number:\")))\n",
    "    i+=1\n",
    "\n",
    "def analyze_functions(num_list):\n",
    "    min_value=num_list[0]\n",
    "    max_value=num_list[0]\n",
    "    total=0\n",
    "    for i in num_list:\n",
    "        if i<min_value:\n",
    "            min_value=i\n",
    "        if i>max_value:\n",
    "            max_value=i\n",
    "        total+=i\n",
    "    average=total/len(num_list)\n",
    "     \n",
    "    print(\"Minimum value:\", min_value)\n",
    "    print(\"Maxinum value:\", max_value)\n",
    "    print(\"Average:\", average)\n",
    "\n",
    "    \n",
    "analyze_functions(num_list)"
   ]
  },
  {
   "cell_type": "code",
   "execution_count": null,
   "id": "a2fdeb51-c874-4bff-81fb-02aed6bb8b28",
   "metadata": {},
   "outputs": [],
   "source": []
  }
 ],
 "metadata": {
  "kernelspec": {
   "display_name": "Python 3 (ipykernel)",
   "language": "python",
   "name": "python3"
  },
  "language_info": {
   "codemirror_mode": {
    "name": "ipython",
    "version": 3
   },
   "file_extension": ".py",
   "mimetype": "text/x-python",
   "name": "python",
   "nbconvert_exporter": "python",
   "pygments_lexer": "ipython3",
   "version": "3.13.2"
  }
 },
 "nbformat": 4,
 "nbformat_minor": 5
}
