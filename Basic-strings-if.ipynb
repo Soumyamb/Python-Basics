{
 "cells": [
  {
   "cell_type": "code",
   "execution_count": 4,
   "id": "baa61af8-2c0c-4fc5-9a47-37d8a4560dda",
   "metadata": {},
   "outputs": [
    {
     "name": "stdout",
     "output_type": "stream",
     "text": [
      "hello Soumya\n"
     ]
    }
   ],
   "source": [
    "#Print statements\n",
    "print(\"hello Soumya\")"
   ]
  },
  {
   "cell_type": "code",
   "execution_count": 5,
   "id": "36e92b5d-c5f3-4bfa-9ef5-20f07239745a",
   "metadata": {},
   "outputs": [
    {
     "name": "stdout",
     "output_type": "stream",
     "text": [
      "hellohellohellohellohellohellohellohellohellohello\n"
     ]
    }
   ],
   "source": [
    "print(\"hello\" * 10)"
   ]
  },
  {
   "cell_type": "code",
   "execution_count": 6,
   "id": "b435a2b6-77fd-4731-a379-1757f8dbf097",
   "metadata": {},
   "outputs": [],
   "source": [
    "Name='John Smith'\n",
    "age=20\n",
    "new_patient=True"
   ]
  },
  {
   "cell_type": "code",
   "execution_count": 7,
   "id": "2dda3746-7c2d-4495-adec-c7a3f2224f1c",
   "metadata": {},
   "outputs": [
    {
     "name": "stdout",
     "output_type": "stream",
     "text": [
      "Name 20 True\n"
     ]
    }
   ],
   "source": [
    "print('Name',age,new_patient)"
   ]
  },
  {
   "cell_type": "code",
   "execution_count": 8,
   "id": "dc6dfcd8-0def-46f9-ba03-21d218fcbbbd",
   "metadata": {},
   "outputs": [
    {
     "name": "stdin",
     "output_type": "stream",
     "text": [
      "What is your name: dsd\n",
      "What is your fav colour: ds\n"
     ]
    },
    {
     "name": "stdout",
     "output_type": "stream",
     "text": [
      "dsd likes ds\n"
     ]
    }
   ],
   "source": [
    "name=input('What is your name:')\n",
    "colour=input('What is your fav colour:')\n",
    "print( name + ' likes ' + colour)"
   ]
  },
  {
   "cell_type": "code",
   "execution_count": 10,
   "id": "f613775f-3957-4c2e-b2cf-d942504c642a",
   "metadata": {},
   "outputs": [
    {
     "name": "stdin",
     "output_type": "stream",
     "text": [
      "Birth year: 1998\n"
     ]
    },
    {
     "name": "stdout",
     "output_type": "stream",
     "text": [
      "<class 'str'>\n",
      "<class 'int'>\n",
      "27\n"
     ]
    }
   ],
   "source": [
    "birth_year=input('Birth year:')\n",
    "print(type(birth_year))\n",
    "age=2025 - int(birth_year)\n",
    "print(type(age))\n",
    "print(age)\n"
   ]
  },
  {
   "cell_type": "code",
   "execution_count": 12,
   "id": "e87d53ab-e5bd-4787-a556-878ccb69abf0",
   "metadata": {},
   "outputs": [
    {
     "name": "stdin",
     "output_type": "stream",
     "text": [
      "Enter the inr you would like to convert: 354\n"
     ]
    },
    {
     "name": "stdout",
     "output_type": "stream",
     "text": [
      "You will recieve:3.93\n"
     ]
    }
   ],
   "source": [
    "INR=input('Enter the inr you would like to convert:')\n",
    "EUR= round(float(INR)/ 90,2)\n",
    "print('You will recieve:' + str(EUR) )\n",
    "\n"
   ]
  },
  {
   "cell_type": "code",
   "execution_count": 13,
   "id": "a5e5d304-ab6f-4692-b713-6cde138bf057",
   "metadata": {},
   "outputs": [
    {
     "name": "stdout",
     "output_type": "stream",
     "text": [
      "Python's for Beginners\n"
     ]
    }
   ],
   "source": [
    "course =\"Python's for Beginners\"\n",
    "print(course)"
   ]
  },
  {
   "cell_type": "code",
   "execution_count": 14,
   "id": "e24dc19b-19ff-46b8-ada6-7a036ad011c3",
   "metadata": {},
   "outputs": [
    {
     "name": "stdout",
     "output_type": "stream",
     "text": [
      "\n",
      "\n",
      "hey i am Soumya\n",
      "i am a data analyst\n",
      "\n"
     ]
    }
   ],
   "source": [
    "course1='''\n",
    "\n",
    "hey i am Soumya\n",
    "i am a data analyst\n",
    "'''\n",
    "print(course1)"
   ]
  },
  {
   "cell_type": "code",
   "execution_count": 15,
   "id": "db4458d8-1342-4987-9bad-d71c2f7d9fdc",
   "metadata": {},
   "outputs": [
    {
     "name": "stdout",
     "output_type": "stream",
     "text": [
      "r\n"
     ]
    }
   ],
   "source": [
    "course =\"Python's for Beginners\"\n",
    "print(course[-2])"
   ]
  },
  {
   "cell_type": "code",
   "execution_count": 16,
   "id": "7f845a36-745b-4992-bbdd-c9b40f9d61c2",
   "metadata": {},
   "outputs": [
    {
     "name": "stdout",
     "output_type": "stream",
     "text": [
      "Py\n"
     ]
    }
   ],
   "source": [
    "print(course[0:2])\n"
   ]
  },
  {
   "cell_type": "code",
   "execution_count": 17,
   "id": "4bdb852b-a14c-4110-9ea1-311e3fd2c6c5",
   "metadata": {},
   "outputs": [],
   "source": [
    "name='Jennifer'"
   ]
  },
  {
   "cell_type": "code",
   "execution_count": 18,
   "id": "e80ff942-c0aa-487e-b4a3-4ea0eab9eb90",
   "metadata": {},
   "outputs": [
    {
     "name": "stdout",
     "output_type": "stream",
     "text": [
      "ennife\n"
     ]
    }
   ],
   "source": [
    "print(name[1:-1])"
   ]
  },
  {
   "cell_type": "code",
   "execution_count": 22,
   "id": "f47501e8-f622-41ad-8c19-d86237bfedbd",
   "metadata": {},
   "outputs": [
    {
     "name": "stdout",
     "output_type": "stream",
     "text": [
      "John Smith is a coder\n",
      " SOUMYA BHIMAKKANAVAR  \n",
      " soumya bhimakkanavar  \n",
      " Soumya Bhimakkanavar  \n",
      " soumya bhimakkanavar  \n",
      " SOUMYA BHIMAKKANAVAR  \n",
      " soumya bhimakkanavar  \n",
      " Soumya Bhimakkanavar  \n",
      " soumya bhimakkanavar  \n",
      " Soumya Bhimakkanavar  \n",
      "Soumya Bhimakkanavar\n",
      "Soumya Bhimakkanavar  \n",
      " Soumya Bhimakkanavar\n",
      " Soumya Athul  \n"
     ]
    }
   ],
   "source": [
    "#formatting string\n",
    "first='John'\n",
    "last='Smith'\n",
    "msg=f'{first} {last} is a coder'\n",
    "print(msg)\n",
    "s=' Soumya Bhimakkanavar  '\n",
    "\n",
    "print(s.upper())\n",
    "print(s.lower())\n",
    "print(s.title())\n",
    "print(s.capitalize())\n",
    "#cleaning and formatting\n",
    "\n",
    "\n",
    "\n",
    "print(s.upper())\n",
    "print(s.lower())\n",
    "print(s.title())\n",
    "print(s.capitalize())\n",
    "print(s)\n",
    "print(s.strip())\n",
    "print(s.lstrip())\n",
    "print(s.rstrip())\n",
    "\n",
    "print(s.replace(\"Bhimakkanavar\",\"Athul\"))"
   ]
  },
  {
   "cell_type": "code",
   "execution_count": 23,
   "id": "aa7dac16-7b0a-4218-ae1f-d183b0a453d0",
   "metadata": {},
   "outputs": [
    {
     "name": "stdout",
     "output_type": "stream",
     "text": [
      "045\n"
     ]
    }
   ],
   "source": [
    "num=\"45\"\n",
    "print(num.zfill(3))"
   ]
  },
  {
   "cell_type": "code",
   "execution_count": 29,
   "id": "d85181b9-9da6-4f4a-95b9-78da33435f0b",
   "metadata": {},
   "outputs": [
    {
     "name": "stdout",
     "output_type": "stream",
     "text": [
      " Soumya Bhimakkanavar  \n"
     ]
    },
    {
     "data": {
      "text/plain": [
       "13"
      ]
     },
     "execution_count": 29,
     "metadata": {},
     "output_type": "execute_result"
    }
   ],
   "source": [
    "print(s)\n",
    "s.find('k')"
   ]
  },
  {
   "cell_type": "code",
   "execution_count": 34,
   "id": "e8ea03ad-cebb-44a8-939d-a1702286fff1",
   "metadata": {},
   "outputs": [
    {
     "name": "stdout",
     "output_type": "stream",
     "text": [
      "Its a cold day\n"
     ]
    }
   ],
   "source": [
    "#conditions\n",
    "\n",
    "is_hot=False\n",
    "is_cold=True\n",
    "if is_hot:\n",
    "    print('Its a hot day')\n",
    "elif is_cold:\n",
    "    print('Its a cold day')\n",
    "else:\n",
    "    print(' Enjoy your day')\n",
    "\n"
   ]
  },
  {
   "cell_type": "code",
   "execution_count": 36,
   "id": "4cd42f6c-17a3-458f-8cfb-d611698edb37",
   "metadata": {},
   "outputs": [
    {
     "name": "stdout",
     "output_type": "stream",
     "text": [
      "amount to putdown: 10000.0\n"
     ]
    }
   ],
   "source": [
    "credit_score=True\n",
    "if credit_score:\n",
    "    print('amount to putdown:',1000000 * 0.01)\n",
    "else:\n",
    "    print('amount to putdown:',1000000 * 0.02)"
   ]
  },
  {
   "cell_type": "code",
   "execution_count": 43,
   "id": "d07a5578-64a1-409e-9fe5-3fb77d5ee818",
   "metadata": {},
   "outputs": [
    {
     "name": "stdin",
     "output_type": "stream",
     "text": [
      "Weight: 51\n",
      "L or K k\n"
     ]
    },
    {
     "name": "stdout",
     "output_type": "stream",
     "text": [
      "pounds(lbs) 112.43561999999999\n"
     ]
    }
   ],
   "source": [
    "weight=input('Weight:')\n",
    "weight_measurement=input('L or K').strip().lower()\n",
    "\n",
    "if weight_measurement=='K' or weight_measurement=='k' :\n",
    "    print('pounds(lbs)', int(weight)*2.20462)\n",
    "elif weight_measurement=='L'or weight_measurement=='l' :\n",
    "    print('weight(kg)', int(weight)/2.20462)\n",
    "else:\n",
    "    print(\"Invalid input. Please enter 'L' for pounds or 'K' for kilograms.\")"
   ]
  },
  {
   "cell_type": "code",
   "execution_count": 50,
   "id": "fbafcb4a-70b6-49a2-9bb3-b356bad05d2a",
   "metadata": {},
   "outputs": [
    {
     "name": "stdin",
     "output_type": "stream",
     "text": [
      "Enter the password: 4567uyghujhnjkmk\n"
     ]
    },
    {
     "name": "stdout",
     "output_type": "stream",
     "text": [
      "Strong\n"
     ]
    }
   ],
   "source": [
    "password=input(\"Enter the password:\")\n",
    "\n",
    "if len(password)<6:\n",
    "    print('Weak')\n",
    "elif len(password)>=6 and len(password)<10:\n",
    "    print('Moderate')\n",
    "elif len(password)>=10:\n",
    "    print('Strong')\n",
    "else:\n",
    "    print(\"Invalid password\")\n",
    "    "
   ]
  },
  {
   "cell_type": "code",
   "execution_count": 57,
   "id": "c9382e21-f21c-4b85-a897-f10cfb082089",
   "metadata": {},
   "outputs": [
    {
     "name": "stdin",
     "output_type": "stream",
     "text": [
      "enter your name: ef\n",
      "enter your password: sdf\n"
     ]
    },
    {
     "name": "stdout",
     "output_type": "stream",
     "text": [
      "Invalid credentials\n"
     ]
    }
   ],
   "source": [
    "#Simple Login system\n",
    "\n",
    "username='Soumya'\n",
    "password='Soumyaathul'\n",
    "\n",
    "name= input(\"enter your name:\")\n",
    "password1=input(\"enter your password:\")\n",
    "\n",
    "if username==name and password==password1:\n",
    "    print('Login successful')\n",
    "else:\n",
    "    print(\"Invalid credentials\")"
   ]
  },
  {
   "cell_type": "code",
   "execution_count": 2,
   "id": "b4305749-6fd4-4412-b1ce-edfadce2fe6d",
   "metadata": {},
   "outputs": [
    {
     "name": "stdout",
     "output_type": "stream",
     "text": [
      "*\n",
      "**\n",
      "***\n",
      "****\n",
      "*****\n",
      "Done\n"
     ]
    }
   ],
   "source": [
    "i=1\n",
    "while i<=5:\n",
    "    print('*' * i)\n",
    "    i=i+1\n",
    "\n",
    "print('Done')"
   ]
  },
  {
   "cell_type": "raw",
   "id": "0bbc16ba-8d7e-4404-8852-0c98d6521a99",
   "metadata": {},
   "source": []
  },
  {
   "cell_type": "code",
   "execution_count": 6,
   "id": "0b20f523-c397-44fb-90e6-598c680ee5a5",
   "metadata": {},
   "outputs": [
    {
     "name": "stdin",
     "output_type": "stream",
     "text": [
      "Guess: 4\n"
     ]
    },
    {
     "name": "stdout",
     "output_type": "stream",
     "text": [
      "Wrong guess try again:\n"
     ]
    },
    {
     "name": "stdin",
     "output_type": "stream",
     "text": [
      "Guess: 6\n"
     ]
    },
    {
     "name": "stdout",
     "output_type": "stream",
     "text": [
      "Wrong guess try again:\n"
     ]
    },
    {
     "name": "stdin",
     "output_type": "stream",
     "text": [
      "Guess: 9\n"
     ]
    },
    {
     "name": "stdout",
     "output_type": "stream",
     "text": [
      "You won\n"
     ]
    }
   ],
   "source": [
    "secret=9\n",
    "guess_count=0\n",
    "while guess_count<3:\n",
    "  guess_input=input(\"Guess:\")\n",
    "  \n",
    "  if int(guess_input)==secret:\n",
    "        print('You won')\n",
    "        break #exists the loop immediately \n",
    "  else:\n",
    "        print(\"Wrong guess try again:\")\n",
    "        guess_count+=1\n",
    "        if guess_count == 3:  # This checks after the last attempt\n",
    "            print(\"You lost! The correct number was\", secret)\n",
    " \n",
    "\n"
   ]
  },
  {
   "cell_type": "code",
   "execution_count": null,
   "id": "7f2349b6-9047-4485-a231-8576b3d376f8",
   "metadata": {},
   "outputs": [
    {
     "name": "stdin",
     "output_type": "stream",
     "text": [
      "enter the amount to withdraw: 444444\n",
      "enter the amount to withdraw: ddddd\n"
     ]
    },
    {
     "name": "stdout",
     "output_type": "stream",
     "text": [
      "Invalid input! Please enter a number.\n"
     ]
    },
    {
     "name": "stdin",
     "output_type": "stream",
     "text": [
      "enter the amount to withdraw: 555555\n"
     ]
    },
    {
     "name": "stdout",
     "output_type": "stream",
     "text": [
      "Insufficient balance :(\n",
      " Account Balance:5000\n"
     ]
    },
    {
     "name": "stdin",
     "output_type": "stream",
     "text": [
      "enter the amount to withdraw: 444\n"
     ]
    },
    {
     "name": "stdout",
     "output_type": "stream",
     "text": [
      "Withdrawal successfull!\n",
      "Account Balance:4556\n"
     ]
    },
    {
     "name": "stdin",
     "output_type": "stream",
     "text": [
      "enter the amount to withdraw: 444\n"
     ]
    },
    {
     "name": "stdout",
     "output_type": "stream",
     "text": [
      "Withdrawal successfull!\n",
      "Account Balance:4112\n"
     ]
    },
    {
     "name": "stdin",
     "output_type": "stream",
     "text": [
      "enter the amount to withdraw: 444\n"
     ]
    },
    {
     "name": "stdout",
     "output_type": "stream",
     "text": [
      "Withdrawal successfull!\n",
      "Account Balance:3668\n"
     ]
    },
    {
     "name": "stdin",
     "output_type": "stream",
     "text": [
      "enter the amount to withdraw: 3668\n"
     ]
    },
    {
     "name": "stdout",
     "output_type": "stream",
     "text": [
      "Withdrawal successfull!\n",
      "Account Balance:0\n"
     ]
    },
    {
     "name": "stdin",
     "output_type": "stream",
     "text": [
      "enter the amount to withdraw: 4\n"
     ]
    },
    {
     "name": "stdout",
     "output_type": "stream",
     "text": [
      "Insufficient balance :(\n",
      " Account Balance:0\n"
     ]
    },
    {
     "name": "stdin",
     "output_type": "stream",
     "text": [
      "enter the amount to withdraw: 44\n"
     ]
    },
    {
     "name": "stdout",
     "output_type": "stream",
     "text": [
      "Insufficient balance :(\n",
      " Account Balance:0\n"
     ]
    }
   ],
   "source": [
    "account_balance=5000\n",
    "\n",
    "withdrawal_amount=input(\"enter the amount to withdraw:\")\n",
    "\n",
    "while True:\n",
    "    try:\n",
    "        withdrawal_amount=int(input(\"enter the amount to withdraw:\"))\n",
    "        if withdrawal_amount==0:\n",
    "             print(\"Exiting ATM. Have a nice day\")\n",
    "             break\n",
    "        elif withdrawal_amount<0:\n",
    "             print(\"Invalid input!Please enter a positive number\")\n",
    "        elif withdrawal_amount<=account_balance:\n",
    "             account_balance=account_balance-withdrawal_amount\n",
    "             print(\"Withdrawal successfull!\\n\" + \"Account Balance:\" + f'{account_balance}')\n",
    "        \n",
    "        else:\n",
    "             print(\"Insufficient balance :(\\n\", \"Account Balance:\" + f'{account_balance}')\n",
    "    except ValueError:\n",
    "      print(\"Invalid input! Please enter a number.\")\n",
    "    "
   ]
  },
  {
   "cell_type": "code",
   "execution_count": 1,
   "id": "ce411ce2-ffe3-4585-bae6-afffe47f270a",
   "metadata": {},
   "outputs": [
    {
     "name": "stdout",
     "output_type": "stream",
     "text": [
      "apple\n",
      "banana\n",
      "fig\n"
     ]
    }
   ],
   "source": [
    "#For Loops\n",
    "fruits=['apple','banana','fig']\n",
    "for i in fruits:\n",
    "    print(i)"
   ]
  },
  {
   "cell_type": "code",
   "execution_count": 5,
   "id": "aeb704ec-1f4d-4d2e-96bd-42185ed8f340",
   "metadata": {},
   "outputs": [
    {
     "name": "stdout",
     "output_type": "stream",
     "text": [
      "apple\n",
      "banana\n"
     ]
    }
   ],
   "source": [
    "fruits=['apple','banana','fig']\n",
    "\n",
    "for i in fruits:\n",
    "    if i=='fig':\n",
    "        break #breaks the loops\n",
    "    print(i)"
   ]
  },
  {
   "cell_type": "code",
   "execution_count": 6,
   "id": "70f86b51-953e-44c4-9238-fe6780e92665",
   "metadata": {},
   "outputs": [
    {
     "name": "stdout",
     "output_type": "stream",
     "text": [
      "1\n",
      "3\n",
      "5\n",
      "7\n",
      "9\n"
     ]
    }
   ],
   "source": [
    "marks=[1,2,3,4,5,6,7,8,9,10]\n",
    "\n",
    "for i in marks:\n",
    "    if i%2==0:\n",
    "        continue\n",
    "    print(i)\n",
    "    "
   ]
  },
  {
   "cell_type": "code",
   "execution_count": 22,
   "id": "452efa39-4df6-4571-843c-95331aa82e6c",
   "metadata": {},
   "outputs": [
    {
     "name": "stdout",
     "output_type": "stream",
     "text": [
      "1,2,3,4,5,6,7,8,9,10,"
     ]
    }
   ],
   "source": [
    "marks=[1,2,3,4,5,6,7,8,9,10]\n",
    "\n",
    "\n",
    "for x in marks:\n",
    "    for i in marks:\n",
    "     print(i*x, end=',')\n",
    "     break"
   ]
  },
  {
   "cell_type": "code",
   "execution_count": 1,
   "id": "34c67ced-8b3d-463b-aabe-28caee1f0768",
   "metadata": {},
   "outputs": [
    {
     "name": "stdout",
     "output_type": "stream",
     "text": [
      "<class 'complex'>\n"
     ]
    }
   ],
   "source": [
    "#python data types\n",
    "\n",
    "x=1\n",
    "y=5.7\n",
    "z=1.9j\n",
    "\n",
    "print(type(z))"
   ]
  },
  {
   "cell_type": "code",
   "execution_count": 2,
   "id": "f2d645f2-31b3-44bc-b040-d51b68b21c9a",
   "metadata": {},
   "outputs": [
    {
     "name": "stdout",
     "output_type": "stream",
     "text": [
      "9\n"
     ]
    }
   ],
   "source": [
    "y=9.7\n",
    "\n",
    "print(int(y)) # casting,"
   ]
  },
  {
   "cell_type": "code",
   "execution_count": 4,
   "id": "537d9b47-0baa-4ffc-b30d-80bde15f4d3d",
   "metadata": {},
   "outputs": [
    {
     "name": "stdout",
     "output_type": "stream",
     "text": [
      "9\n"
     ]
    }
   ],
   "source": [
    "import random\n",
    "\n",
    "print(random.randrange(1,10))"
   ]
  },
  {
   "cell_type": "code",
   "execution_count": 16,
   "id": "ee8beb3f-d5d1-4c7f-9ec5-11a21c4203d3",
   "metadata": {},
   "outputs": [
    {
     "name": "stdin",
     "output_type": "stream",
     "text": [
      "enter the number: 25\n"
     ]
    },
    {
     "name": "stdout",
     "output_type": "stream",
     "text": [
      "Automorphic Number: Yes\n"
     ]
    }
   ],
   "source": [
    "#Automorphic Number\n",
    "\n",
    "c\n",
    "\n",
    "if last_part==x:\n",
    "    print('Automorphic Number: Yes')\n",
    "else:\n",
    "    print('Automorphic Number: No')"
   ]
  },
  {
   "cell_type": "code",
   "execution_count": null,
   "id": "18dde1de-7f7d-4f04-b999-592267d5d1c8",
   "metadata": {},
   "outputs": [],
   "source": []
  },
  {
   "cell_type": "code",
   "execution_count": null,
   "id": "20f6a27b-83ea-4b79-af45-6b0a816eb55d",
   "metadata": {},
   "outputs": [],
   "source": []
  },
  {
   "cell_type": "code",
   "execution_count": null,
   "id": "5a7df00f-9751-49c9-ac13-6b42c40f0e5e",
   "metadata": {},
   "outputs": [],
   "source": []
  }
 ],
 "metadata": {
  "kernelspec": {
   "display_name": "Python 3 (ipykernel)",
   "language": "python",
   "name": "python3"
  },
  "language_info": {
   "codemirror_mode": {
    "name": "ipython",
    "version": 3
   },
   "file_extension": ".py",
   "mimetype": "text/x-python",
   "name": "python",
   "nbconvert_exporter": "python",
   "pygments_lexer": "ipython3",
   "version": "3.13.2"
  }
 },
 "nbformat": 4,
 "nbformat_minor": 5
}
