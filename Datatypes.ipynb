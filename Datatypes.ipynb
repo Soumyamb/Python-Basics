{
 "cells": [
  {
   "cell_type": "code",
   "execution_count": 1,
   "id": "1a01ba82-2f14-4de3-942c-74fcbb4d1bf8",
   "metadata": {},
   "outputs": [
    {
     "name": "stdout",
     "output_type": "stream",
     "text": [
      "<class 'complex'>\n"
     ]
    }
   ],
   "source": [
    "#python data types\n",
    "\n",
    "x=1\n",
    "y=5.7\n",
    "z=1.9j\n",
    "\n",
    "print(type(z))"
   ]
  },
  {
   "cell_type": "code",
   "execution_count": 2,
   "id": "74c862af-e110-4f6c-9bea-c8e88aa574ed",
   "metadata": {},
   "outputs": [
    {
     "name": "stdout",
     "output_type": "stream",
     "text": [
      "9\n"
     ]
    }
   ],
   "source": [
    "y=9.7\n",
    "\n",
    "print(int(y)) # casting"
   ]
  },
  {
   "cell_type": "code",
   "execution_count": 4,
   "id": "3cb682df-2959-4184-beed-b2697108120d",
   "metadata": {},
   "outputs": [
    {
     "name": "stdout",
     "output_type": "stream",
     "text": [
      "1\n"
     ]
    }
   ],
   "source": [
    "import random\n",
    "\n",
    "print(random.randrange(1,10))"
   ]
  },
  {
   "cell_type": "code",
   "execution_count": 5,
   "id": "43a63345-2b86-404e-8d63-adfc2c01b1b1",
   "metadata": {},
   "outputs": [
    {
     "name": "stdin",
     "output_type": "stream",
     "text": [
      "Enter the number: 45\n"
     ]
    },
    {
     "name": "stdout",
     "output_type": "stream",
     "text": [
      "Automorphic Number: No\n"
     ]
    }
   ],
   "source": [
    "#Automorphic Number\n",
    "\n",
    "x=input(\"Enter the number:\")\n",
    "y=int(x) **2\n",
    "last_part=str(y)[-len(x):]\n",
    "if last_part==x:\n",
    "    print('Automorphic Number: Yes')\n",
    "else:\n",
    "    print('Automorphic Number: No')"
   ]
  },
  {
   "cell_type": "code",
   "execution_count": 7,
   "id": "2cfa6ae9-4c59-4b1b-a73e-2f34cb29d15a",
   "metadata": {},
   "outputs": [
    {
     "name": "stdout",
     "output_type": "stream",
     "text": [
      "b is greater than a\n"
     ]
    }
   ],
   "source": [
    "#Boolean \n",
    "\n",
    "#When you run a condition in an if statment, python return true/False\n",
    "\n",
    "a=4\n",
    "b=6\n",
    "\n",
    "if b>a:\n",
    "   print(\"b is greater than a\")\n",
    "else:\n",
    "  print(\"b is not greater than a\")\n"
   ]
  },
  {
   "cell_type": "code",
   "execution_count": 16,
   "id": "63d2d06a-6aa4-4517-93c2-7a7762907261",
   "metadata": {},
   "outputs": [
    {
     "name": "stdout",
     "output_type": "stream",
     "text": [
      "True\n",
      "True\n",
      "True\n",
      "False\n",
      "False\n",
      "False\n",
      "True\n"
     ]
    }
   ],
   "source": [
    "#bool() function allows you to evaluate any value\n",
    "print(bool(\"Hello\"))\n",
    "print(bool(15))\n",
    "print(bool(['manago','apple','orange']))\n",
    "print(bool(''))   \n",
    "print(bool())   \n",
    "print(bool([]))   \n",
    "\n",
    "def myFunction():\n",
    "    return True\n",
    "\n",
    "print(myFunction())\n",
    "\n",
    "\n"
   ]
  },
  {
   "cell_type": "code",
   "execution_count": 18,
   "id": "7ce155ae-379e-423a-b1f9-6dc90225f89e",
   "metadata": {},
   "outputs": [
    {
     "name": "stdout",
     "output_type": "stream",
     "text": [
      "['apple', 'banana', 'cherry']\n"
     ]
    }
   ],
   "source": [
    "#Lists: ordered, changeable and allow duplicates\n",
    "\n",
    "thislist = [\"apple\", \"banana\", \"cherry\"]\n",
    "print(thislist)"
   ]
  },
  {
   "cell_type": "code",
   "execution_count": 20,
   "id": "dede72d4-3dbb-4f60-a2d1-19a60f07a5b7",
   "metadata": {},
   "outputs": [
    {
     "name": "stdout",
     "output_type": "stream",
     "text": [
      "3\n"
     ]
    }
   ],
   "source": [
    "my_list=[\"apple\", \"banana\", \"cherry\"]\n",
    "print(len(my_list))"
   ]
  },
  {
   "cell_type": "code",
   "execution_count": 23,
   "id": "13c0419d-5ec1-4449-9711-80e5cf2b5b1d",
   "metadata": {},
   "outputs": [
    {
     "name": "stdout",
     "output_type": "stream",
     "text": [
      "['apple', 'banana', 'cherry']\n"
     ]
    }
   ],
   "source": [
    "thislist=list((\"apple\", \"banana\", \"cherry\"))\n",
    "print(thislist)"
   ]
  },
  {
   "cell_type": "code",
   "execution_count": 1,
   "id": "fc2ad91e-8598-4cf2-adb1-2186d99b2b23",
   "metadata": {},
   "outputs": [
    {
     "name": "stdout",
     "output_type": "stream",
     "text": [
      "10\n",
      "20\n",
      "30\n",
      "40\n",
      "50\n"
     ]
    }
   ],
   "source": [
    "#problems\n",
    "\n",
    "numbers = [10, 20, 30, 40, 50] #print all the numbers\n",
    "\n",
    "for i in numbers:\n",
    "    print(i)\n",
    "    "
   ]
  },
  {
   "cell_type": "code",
   "execution_count": 12,
   "id": "cb9600fc-906c-4d87-bf95-7a245deddfc1",
   "metadata": {},
   "outputs": [
    {
     "name": "stdout",
     "output_type": "stream",
     "text": [
      "15\n"
     ]
    }
   ],
   "source": [
    "numbers = [1, 2, 3, 4, 5] #write a function to add all the numbers\n",
    "\n",
    "def sumallnumbers(num):\n",
    "    z=0\n",
    "    for i in numbers:\n",
    "        z=z+i\n",
    "    return z  # Return the total sum\n",
    "\n",
    "print(sumallnumbers(numbers))\n",
    " \n",
    "\n"
   ]
  },
  {
   "cell_type": "code",
   "execution_count": 8,
   "id": "f0dcd017-792d-4ead-b0d2-d5f4f6de394f",
   "metadata": {},
   "outputs": [
    {
     "name": "stdout",
     "output_type": "stream",
     "text": [
      "10\n"
     ]
    }
   ],
   "source": [
    "numbers = [5, 10, 2, 8, 3] #find the largest number in the list\n",
    "\n",
    "def largest_number(num):\n",
    "    largest=numbers[0]\n",
    "    for i in numbers:\n",
    "            if i>largest:\n",
    "                largest=i\n",
    "    return largest\n",
    "\n",
    "print(largest_number(numbers))\n"
   ]
  },
  {
   "cell_type": "code",
   "execution_count": 1,
   "id": "11fa9405-a9ed-4c90-b292-8d6374571e72",
   "metadata": {},
   "outputs": [
    {
     "name": "stdout",
     "output_type": "stream",
     "text": [
      "('Soumya', 'Athul', 'Roshni', 'Achan', 'Rithin')\n"
     ]
    }
   ],
   "source": [
    "#tuple: Ordered, Not Changeable, allows duplicate & Indexed\n",
    "\n",
    "thistuple=('Soumya', 'Athul','Roshni','Achan','Rithin')\n",
    "print(thistuple)"
   ]
  },
  {
   "cell_type": "code",
   "execution_count": 4,
   "id": "bce4257e-3b2a-4463-a02a-258f8a224ec5",
   "metadata": {},
   "outputs": [
    {
     "name": "stdout",
     "output_type": "stream",
     "text": [
      "<class 'tuple'>\n",
      "<class 'str'>\n"
     ]
    }
   ],
   "source": [
    "#tuple with 1 item, add a comman after the item, else it doesnt recognize as a tuple\n",
    "\n",
    "singletuple=('apple',)\n",
    "print(type(singletuple))\n",
    "singletuple1=('apple')\n",
    "print(type(singletuple1))"
   ]
  },
  {
   "cell_type": "code",
   "execution_count": 6,
   "id": "b93f827f-f8f8-4e5d-b023-1004069ace91",
   "metadata": {},
   "outputs": [
    {
     "name": "stdout",
     "output_type": "stream",
     "text": [
      "<class 'tuple'>\n"
     ]
    }
   ],
   "source": [
    "# can contain different data types\n",
    "\n",
    "tuple2=('Soumya',27,'SRH hochschule Berlin',0.8)\n",
    "print(type(tuple2))"
   ]
  },
  {
   "cell_type": "code",
   "execution_count": 7,
   "id": "1084c444-5637-43d2-9ea2-a6b8bde5e569",
   "metadata": {},
   "outputs": [
    {
     "name": "stdout",
     "output_type": "stream",
     "text": [
      "('Soumya', 27, 'SRH hochschule Berlin', 0.8)\n"
     ]
    }
   ],
   "source": [
    "#or you can use tuple constructor\n",
    "\n",
    "tuple4=tuple(('Soumya',27,'SRH hochschule Berlin',0.8))\n",
    "print(tuple4)"
   ]
  },
  {
   "cell_type": "code",
   "execution_count": 12,
   "id": "e4343278-4435-4030-9838-9fd035367e93",
   "metadata": {},
   "outputs": [
    {
     "name": "stdout",
     "output_type": "stream",
     "text": [
      "yes there is apple in the list\n"
     ]
    }
   ],
   "source": [
    "#Access List Items\n",
    "\n",
    "list1=['apple','mango','banana']\n",
    "\n",
    "if 'apple' in list1:\n",
    "       print('yes there is apple in the list')\n",
    "\n"
   ]
  },
  {
   "cell_type": "code",
   "execution_count": 20,
   "id": "cd100542-3a69-48ed-b0bf-91246fd77f81",
   "metadata": {},
   "outputs": [
    {
     "name": "stdout",
     "output_type": "stream",
     "text": [
      "['Soumya', 27, 'SDMCET', 0.8]\n",
      "['Sebastian', 'Soumya', 'Gibran', 'Neelu']\n",
      "['Sebastian', 'Gibran', 'Neelu', 'Simon']\n",
      "['Sebastian', 'Gibran', 'Neelu', 'Sofi', 'Simon']\n"
     ]
    }
   ],
   "source": [
    "#Change item value\n",
    "list2=['Soumya',27,'SRH hochschule Berlin',0.8]\n",
    "list2[2]='SDMCET'\n",
    "print(list2)\n",
    "\n",
    "#Change range of values\n",
    "team1=['Sebastian','Soumya','Gibran','Neelu']\n",
    "print(team1)\n",
    "team1[1:]=['Gibran','Neelu','Simon']\n",
    "print(team1)\n",
    "\n",
    "#use insert method()\n",
    "team1.insert(3,'Sofi')\n",
    "print(team1)"
   ]
  },
  {
   "cell_type": "code",
   "execution_count": 24,
   "id": "d074decf-8375-4c7c-8c75-d28f3af1616c",
   "metadata": {},
   "outputs": [
    {
     "name": "stdout",
     "output_type": "stream",
     "text": [
      "banana\n"
     ]
    }
   ],
   "source": [
    "mylist = ['apple', 'banana', 'cherry']\n",
    "mylist[0] = 'kiwi'\n",
    "print(mylist[1]) # replaces the value"
   ]
  },
  {
   "cell_type": "code",
   "execution_count": 28,
   "id": "d517dad2-f0c0-4610-8fc5-c367253e0b36",
   "metadata": {},
   "outputs": [
    {
     "name": "stdout",
     "output_type": "stream",
     "text": [
      "['apple', 'banana', 'cherry', 'strawberry', 'mango', 'mango']\n",
      "['apple', 'banana', 'cherry', 'strawberry', 'mango', 'strawberry', 'mango']\n",
      "['apple', 'banana', 'cherry', 'guava', 'chickoo', 'tender coconut']\n"
     ]
    }
   ],
   "source": [
    "#use append()\n",
    "thislist1=['apple', 'banana', 'cherry']\n",
    "thislist.append('mango')\n",
    "print(thislist)\n",
    "\n",
    "#Insert\n",
    "\n",
    "thislist.insert(-1,'strawberry')\n",
    "print(thislist)\n",
    "\n",
    "#extend list\n",
    "thislist2=['guava', 'chickoo', 'tender coconut']\n",
    "\n",
    "thislist1.extend(thislist2)\n",
    "print(thislist1)"
   ]
  },
  {
   "cell_type": "code",
   "execution_count": null,
   "id": "4a2c7f6d-de90-4637-bc08-f96f98d3813b",
   "metadata": {},
   "outputs": [],
   "source": []
  },
  {
   "cell_type": "code",
   "execution_count": null,
   "id": "fc0955ad-a443-4575-bdac-d39b0beb2c06",
   "metadata": {},
   "outputs": [],
   "source": []
  }
 ],
 "metadata": {
  "kernelspec": {
   "display_name": "Python 3 (ipykernel)",
   "language": "python",
   "name": "python3"
  },
  "language_info": {
   "codemirror_mode": {
    "name": "ipython",
    "version": 3
   },
   "file_extension": ".py",
   "mimetype": "text/x-python",
   "name": "python",
   "nbconvert_exporter": "python",
   "pygments_lexer": "ipython3",
   "version": "3.13.2"
  }
 },
 "nbformat": 4,
 "nbformat_minor": 5
}
