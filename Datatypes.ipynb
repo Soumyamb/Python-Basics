{
 "cells": [
  {
   "cell_type": "code",
   "execution_count": 1,
   "id": "1a01ba82-2f14-4de3-942c-74fcbb4d1bf8",
   "metadata": {},
   "outputs": [
    {
     "name": "stdout",
     "output_type": "stream",
     "text": [
      "<class 'complex'>\n"
     ]
    }
   ],
   "source": [
    "#python data types\n",
    "\n",
    "x=1\n",
    "y=5.7\n",
    "z=1.9j\n",
    "\n",
    "print(type(z))"
   ]
  },
  {
   "cell_type": "code",
   "execution_count": 2,
   "id": "74c862af-e110-4f6c-9bea-c8e88aa574ed",
   "metadata": {},
   "outputs": [
    {
     "name": "stdout",
     "output_type": "stream",
     "text": [
      "9\n"
     ]
    }
   ],
   "source": [
    "y=9.7\n",
    "\n",
    "print(int(y)) # casting"
   ]
  },
  {
   "cell_type": "code",
   "execution_count": 4,
   "id": "3cb682df-2959-4184-beed-b2697108120d",
   "metadata": {},
   "outputs": [
    {
     "name": "stdout",
     "output_type": "stream",
     "text": [
      "1\n"
     ]
    }
   ],
   "source": [
    "import random\n",
    "\n",
    "print(random.randrange(1,10))"
   ]
  },
  {
   "cell_type": "code",
   "execution_count": 13,
   "id": "43a63345-2b86-404e-8d63-adfc2c01b1b1",
   "metadata": {},
   "outputs": [
    {
     "name": "stdin",
     "output_type": "stream",
     "text": [
      "Enter the number: 34\n"
     ]
    },
    {
     "name": "stdout",
     "output_type": "stream",
     "text": [
      "Automorphic Number: No\n"
     ]
    }
   ],
   "source": [
    "#Automorphic Number\n",
    "\n",
    "x=input(\"Enter the number:\")\n",
    "y=int(x) **2\n",
    "last_part=str(y)[-len(x):]\n",
    "if last_part==x:\n",
    "    print('Automorphic Number: Yes')\n",
    "else:\n",
    "    print('Automorphic Number: No')"
   ]
  },
  {
   "cell_type": "code",
   "execution_count": 14,
   "id": "2cfa6ae9-4c59-4b1b-a73e-2f34cb29d15a",
   "metadata": {},
   "outputs": [
    {
     "name": "stdout",
     "output_type": "stream",
     "text": [
      "b is greater than a\n"
     ]
    }
   ],
   "source": [
    "#Boolean \n",
    "\n",
    "#When you run a condition in an if statment, python return true/False\n",
    "\n",
    "a=4\n",
    "b=6\n",
    "\n",
    "if b>a:\n",
    "   print(\"b is greater than a\")\n",
    "else:\n",
    "  print(\"b is not greater than a\")\n"
   ]
  },
  {
   "cell_type": "code",
   "execution_count": 15,
   "id": "63d2d06a-6aa4-4517-93c2-7a7762907261",
   "metadata": {},
   "outputs": [
    {
     "name": "stdout",
     "output_type": "stream",
     "text": [
      "True\n",
      "True\n",
      "True\n",
      "False\n",
      "False\n",
      "False\n",
      "True\n"
     ]
    }
   ],
   "source": [
    "#bool() function allows you to evaluate any value\n",
    "print(bool(\"Hello\"))\n",
    "print(bool(15))\n",
    "print(bool(['manago','apple','orange']))\n",
    "print(bool(''))   \n",
    "print(bool())   \n",
    "print(bool([]))   \n",
    "\n",
    "def myFunction():\n",
    "    return True\n",
    "\n",
    "print(myFunction())\n",
    "\n",
    "\n"
   ]
  },
  {
   "cell_type": "code",
   "execution_count": 16,
   "id": "7ce155ae-379e-423a-b1f9-6dc90225f89e",
   "metadata": {},
   "outputs": [
    {
     "name": "stdout",
     "output_type": "stream",
     "text": [
      "['apple', 'banana', 'cherry']\n"
     ]
    }
   ],
   "source": [
    "#Lists: ordered, changeable and allow duplicates\n",
    "\n",
    "thislist = [\"apple\", \"banana\", \"cherry\"]\n",
    "print(thislist)"
   ]
  },
  {
   "cell_type": "code",
   "execution_count": 17,
   "id": "dede72d4-3dbb-4f60-a2d1-19a60f07a5b7",
   "metadata": {},
   "outputs": [
    {
     "name": "stdout",
     "output_type": "stream",
     "text": [
      "3\n"
     ]
    }
   ],
   "source": [
    "my_list=[\"apple\", \"banana\", \"cherry\"]\n",
    "print(len(my_list))"
   ]
  },
  {
   "cell_type": "code",
   "execution_count": 18,
   "id": "13c0419d-5ec1-4449-9711-80e5cf2b5b1d",
   "metadata": {},
   "outputs": [
    {
     "name": "stdout",
     "output_type": "stream",
     "text": [
      "['apple', 'banana', 'cherry']\n"
     ]
    }
   ],
   "source": [
    "thislist=list((\"apple\", \"banana\", \"cherry\"))\n",
    "print(thislist)"
   ]
  },
  {
   "cell_type": "code",
   "execution_count": 19,
   "id": "fc2ad91e-8598-4cf2-adb1-2186d99b2b23",
   "metadata": {},
   "outputs": [
    {
     "name": "stdout",
     "output_type": "stream",
     "text": [
      "10\n",
      "20\n",
      "30\n",
      "40\n",
      "50\n"
     ]
    }
   ],
   "source": [
    "#problems\n",
    "\n",
    "numbers = [10, 20, 30, 40, 50] #print all the numbers\n",
    "\n",
    "for i in numbers:\n",
    "    print(i)\n",
    "    "
   ]
  },
  {
   "cell_type": "code",
   "execution_count": 20,
   "id": "cb9600fc-906c-4d87-bf95-7a245deddfc1",
   "metadata": {},
   "outputs": [
    {
     "name": "stdout",
     "output_type": "stream",
     "text": [
      "15\n"
     ]
    }
   ],
   "source": [
    "numbers = [1, 2, 3, 4, 5] #write a function to add all the numbers\n",
    "\n",
    "def sumallnumbers(num):\n",
    "    z=0\n",
    "    for i in numbers:\n",
    "        z=z+i\n",
    "    return z  # Return the total sum\n",
    "\n",
    "print(sumallnumbers(numbers))\n",
    " \n",
    "\n"
   ]
  },
  {
   "cell_type": "code",
   "execution_count": 21,
   "id": "f0dcd017-792d-4ead-b0d2-d5f4f6de394f",
   "metadata": {},
   "outputs": [
    {
     "name": "stdout",
     "output_type": "stream",
     "text": [
      "10\n"
     ]
    }
   ],
   "source": [
    "numbers = [5, 10, 2, 8, 3] #find the largest number in the list\n",
    "\n",
    "def largest_number(num):\n",
    "    largest=numbers[0]\n",
    "    for i in numbers:\n",
    "            if i>largest:\n",
    "                largest=i\n",
    "    return largest\n",
    "\n",
    "print(largest_number(numbers))\n"
   ]
  },
  {
   "cell_type": "code",
   "execution_count": 22,
   "id": "11fa9405-a9ed-4c90-b292-8d6374571e72",
   "metadata": {},
   "outputs": [
    {
     "name": "stdout",
     "output_type": "stream",
     "text": [
      "('Soumya', 'Athul', 'Roshni', 'Achan', 'Rithin')\n"
     ]
    }
   ],
   "source": [
    "#tuple: Ordered, Not Changeable, allows duplicate & Indexed\n",
    "\n",
    "thistuple=('Soumya', 'Athul','Roshni','Achan','Rithin')\n",
    "print(thistuple)"
   ]
  },
  {
   "cell_type": "code",
   "execution_count": 23,
   "id": "bce4257e-3b2a-4463-a02a-258f8a224ec5",
   "metadata": {},
   "outputs": [
    {
     "name": "stdout",
     "output_type": "stream",
     "text": [
      "<class 'tuple'>\n",
      "<class 'str'>\n"
     ]
    }
   ],
   "source": [
    "#tuple with 1 item, add a comman after the item, else it doesnt recognize as a tuple\n",
    "\n",
    "singletuple=('apple',)\n",
    "print(type(singletuple))\n",
    "singletuple1=('apple')\n",
    "print(type(singletuple1))"
   ]
  },
  {
   "cell_type": "code",
   "execution_count": 24,
   "id": "b93f827f-f8f8-4e5d-b023-1004069ace91",
   "metadata": {},
   "outputs": [
    {
     "name": "stdout",
     "output_type": "stream",
     "text": [
      "<class 'tuple'>\n"
     ]
    }
   ],
   "source": [
    "# can contain different data types\n",
    "\n",
    "tuple2=('Soumya',27,'SRH hochschule Berlin',0.8)\n",
    "print(type(tuple2))"
   ]
  },
  {
   "cell_type": "code",
   "execution_count": 25,
   "id": "1084c444-5637-43d2-9ea2-a6b8bde5e569",
   "metadata": {},
   "outputs": [
    {
     "name": "stdout",
     "output_type": "stream",
     "text": [
      "('Soumya', 27, 'SRH hochschule Berlin', 0.8)\n"
     ]
    }
   ],
   "source": [
    "#or you can use tuple constructor\n",
    "\n",
    "tuple4=tuple(('Soumya',27,'SRH hochschule Berlin',0.8))\n",
    "print(tuple4)"
   ]
  },
  {
   "cell_type": "code",
   "execution_count": 26,
   "id": "e4343278-4435-4030-9838-9fd035367e93",
   "metadata": {},
   "outputs": [
    {
     "name": "stdout",
     "output_type": "stream",
     "text": [
      "yes there is apple in the list\n"
     ]
    }
   ],
   "source": [
    "#Access List Items\n",
    "\n",
    "list1=['apple','mango','banana']\n",
    "\n",
    "if 'apple' in list1:\n",
    "       print('yes there is apple in the list')\n",
    "\n"
   ]
  },
  {
   "cell_type": "code",
   "execution_count": 27,
   "id": "cd100542-3a69-48ed-b0bf-91246fd77f81",
   "metadata": {},
   "outputs": [
    {
     "name": "stdout",
     "output_type": "stream",
     "text": [
      "['Soumya', 27, 'SDMCET', 0.8]\n",
      "['Sebastian', 'Soumya', 'Gibran', 'Neelu']\n",
      "['Sebastian', 'Gibran', 'Neelu', 'Simon']\n",
      "['Sebastian', 'Gibran', 'Neelu', 'Sofi', 'Simon']\n"
     ]
    }
   ],
   "source": [
    "#Change item value\n",
    "list2=['Soumya',27,'SRH hochschule Berlin',0.8]\n",
    "list2[2]='SDMCET'\n",
    "print(list2)\n",
    "\n",
    "#Change range of values\n",
    "team1=['Sebastian','Soumya','Gibran','Neelu']\n",
    "print(team1)\n",
    "team1[1:]=['Gibran','Neelu','Simon']\n",
    "print(team1)\n",
    "\n",
    "#use insert method()\n",
    "team1.insert(3,'Sofi')\n",
    "print(team1)"
   ]
  },
  {
   "cell_type": "code",
   "execution_count": 28,
   "id": "d074decf-8375-4c7c-8c75-d28f3af1616c",
   "metadata": {},
   "outputs": [
    {
     "name": "stdout",
     "output_type": "stream",
     "text": [
      "banana\n"
     ]
    }
   ],
   "source": [
    "mylist = ['apple', 'banana', 'cherry']\n",
    "mylist[0] = 'kiwi'\n",
    "print(mylist[1]) # replaces the value"
   ]
  },
  {
   "cell_type": "code",
   "execution_count": 29,
   "id": "d517dad2-f0c0-4610-8fc5-c367253e0b36",
   "metadata": {},
   "outputs": [
    {
     "name": "stdout",
     "output_type": "stream",
     "text": [
      "['apple', 'banana', 'cherry', 'mango']\n",
      "['apple', 'banana', 'cherry', 'strawberry', 'mango']\n",
      "['apple', 'banana', 'cherry', 'guava', 'chickoo', 'tender coconut']\n"
     ]
    }
   ],
   "source": [
    "#use append()\n",
    "thislist1=['apple', 'banana', 'cherry']\n",
    "thislist.append('mango')\n",
    "print(thislist)\n",
    "\n",
    "#Insert\n",
    "\n",
    "thislist.insert(-1,'strawberry')\n",
    "print(thislist)\n",
    "\n",
    "#extend list\n",
    "thislist2=['guava', 'chickoo', 'tender coconut']\n",
    "\n",
    "thislist1.extend(thislist2)\n",
    "print(thislist1)"
   ]
  },
  {
   "cell_type": "code",
   "execution_count": 36,
   "id": "4a2c7f6d-de90-4637-bc08-f96f98d3813b",
   "metadata": {},
   "outputs": [
    {
     "name": "stdout",
     "output_type": "stream",
     "text": [
      "['tender coconut', 'guava', 'chickoo', 'cherry', 'banana', 'apple']\n",
      "['apple', 'banana', 'cherry', 'chickoo', 'guava', 'tender coconut']\n"
     ]
    }
   ],
   "source": [
    "#sortlist\n",
    "\n",
    "thislist1.sort(reverse=True)\n",
    "print(thislist1)\n",
    "\n",
    "thislist1.reverse()\n",
    "print(thislist1)\n"
   ]
  },
  {
   "cell_type": "code",
   "execution_count": 39,
   "id": "fc0955ad-a443-4575-bdac-d39b0beb2c06",
   "metadata": {},
   "outputs": [
    {
     "name": "stdout",
     "output_type": "stream",
     "text": [
      "['apple', 'banana', 'cherry']\n",
      "['apple']\n"
     ]
    }
   ],
   "source": [
    "#copy the data\n",
    "\n",
    "thislist = [\"apple\", \"banana\", \"cherry\"]\n",
    "mylist=thislist.copy()\n",
    "print(mylist)\n",
    "\n",
    "mylist2=thislist[0:1]\n",
    "print(mylist2)\n"
   ]
  },
  {
   "cell_type": "code",
   "execution_count": 40,
   "id": "741de772-0b93-4d5a-8da6-a92585265f6c",
   "metadata": {},
   "outputs": [
    {
     "name": "stdout",
     "output_type": "stream",
     "text": [
      "['apple', 'banana', 'cherry', 'guava', 'chickoo', 'tender coconut']\n"
     ]
    }
   ],
   "source": [
    "#join lists=Append(), extend(), or use + operator\n",
    "\n",
    "print(thislist+thislist2)"
   ]
  },
  {
   "cell_type": "code",
   "execution_count": 6,
   "id": "99c3f529-e477-444d-b788-d19e0a0529c3",
   "metadata": {},
   "outputs": [
    {
     "name": "stdout",
     "output_type": "stream",
     "text": [
      "('apple', 'banana', 'cherry', 'orange')\n"
     ]
    }
   ],
   "source": [
    "#Tuples\n",
    "\n",
    "t1=(\"apple\", \"banana\", \"cherry\")\n",
    "\n",
    "t2=(\"orange\",)\n",
    "t1+=t2 #add tuple to a tuple\n",
    "\n",
    "print(t1)\n"
   ]
  },
  {
   "cell_type": "code",
   "execution_count": 7,
   "id": "67d1f02a-00d2-452f-aec8-230eb054297d",
   "metadata": {},
   "outputs": [
    {
     "name": "stdout",
     "output_type": "stream",
     "text": [
      "apple\n",
      "banana\n",
      "cherry\n"
     ]
    }
   ],
   "source": [
    "fruits = (\"apple\", \"banana\", \"cherry\")\n",
    "\n",
    "(green, yellow, red) = fruits\n",
    "\n",
    "print(green)\n",
    "print(yellow)\n",
    "print(red)\n"
   ]
  },
  {
   "cell_type": "code",
   "execution_count": 11,
   "id": "d83f934f-3ed3-406b-b772-6d899753420f",
   "metadata": {},
   "outputs": [
    {
     "name": "stdout",
     "output_type": "stream",
     "text": [
      "apple\n",
      "banana\n",
      "cherry\n",
      "apple\n",
      "banana\n",
      "cherry\n"
     ]
    }
   ],
   "source": [
    "fruits = (\"apple\", \"banana\", \"cherry\") \n",
    "\n",
    "for i in fruits: #loop through the tuple\n",
    "    print(i)\n",
    "\n",
    "\n",
    "for i in range(len(fruits)): #loop through the index\n",
    "    print(i)\n"
   ]
  },
  {
   "cell_type": "code",
   "execution_count": 15,
   "id": "8469b5c7-dc44-4d2d-8095-f32f968ae157",
   "metadata": {},
   "outputs": [
    {
     "name": "stdout",
     "output_type": "stream",
     "text": [
      "('orange', 'mango', 'banana')\n",
      "('orange', 'mango', 'orange', 'mango', 'orange', 'mango', 'orange', 'mango')\n"
     ]
    }
   ],
   "source": [
    "t1=(\"orange\",\"mango\")\n",
    "t2=(\"banana\",)\n",
    "\n",
    "t3=t1+t2\n",
    "print(t3)\n",
    "t4=t1*4\n",
    "print(t4)"
   ]
  },
  {
   "cell_type": "code",
   "execution_count": 17,
   "id": "10a4d17d-fd98-4540-982e-57a5f5d524d0",
   "metadata": {},
   "outputs": [
    {
     "data": {
      "text/plain": [
       "4"
      ]
     },
     "execution_count": 17,
     "metadata": {},
     "output_type": "execute_result"
    }
   ],
   "source": [
    "t4.count('orange')"
   ]
  },
  {
   "cell_type": "code",
   "execution_count": 18,
   "id": "cb76095b-c316-4888-98e4-4e4d8e15e3c1",
   "metadata": {},
   "outputs": [
    {
     "data": {
      "text/plain": [
       "0"
      ]
     },
     "execution_count": 18,
     "metadata": {},
     "output_type": "execute_result"
    }
   ],
   "source": [
    "t4.index(\"orange\")"
   ]
  },
  {
   "cell_type": "code",
   "execution_count": 3,
   "id": "5c4b72d0-3381-43ac-846d-519e33bd73d6",
   "metadata": {},
   "outputs": [
    {
     "name": "stdout",
     "output_type": "stream",
     "text": [
      "Ford\n"
     ]
    }
   ],
   "source": [
    "#Dictionaries\n",
    "\n",
    "thisdict={ \"brand\":\"Ford\",\n",
    "          \"model\": \"Mustang\",\n",
    "          \"year\": \"1998\",\n",
    "         \"colors\": ['red','yellow','classic black']}\n",
    "\n",
    "print(thisdict['brand'])"
   ]
  },
  {
   "cell_type": "code",
   "execution_count": 13,
   "id": "d9796228-a175-4d52-84b1-6f334e60f821",
   "metadata": {},
   "outputs": [
    {
     "name": "stdout",
     "output_type": "stream",
     "text": [
      "dict_keys(['brand', 'model', 'year', 'colors'])\n",
      "dict_values(['Ford', 'Mustang', '1998', ['red', 'yellow', 'classic black']])\n",
      "dict_items([('brand', 'Ford'), ('model', 'Mustang'), ('year', '1998'), ('colors', ['red', 'yellow', 'classic black'])])\n",
      "yes\n",
      "{'brand': 'Ford', 'model': 'Mustang', 'year': 2020, 'colors': ['red', 'yellow', 'classic black']}\n",
      "updated {'brand': 'Ford', 'model': 'Mustang', 'year': '1998', 'colors': ['red', 'yellow', 'classic black']}\n"
     ]
    }
   ],
   "source": [
    "print(thisdict.keys())\n",
    "\n",
    "print(thisdict.values())\n",
    "\n",
    "x=thisdict.items() #items() method will return eaach item in a dictionary, as tuples in a list\n",
    "print(x)\n",
    "\n",
    "if \"year\" in thisdict:\n",
    "    print(\"yes\")\n",
    "\n",
    "\n",
    "#change the items\n",
    "\n",
    "thisdict[\"year\"]=2020\n",
    "print(thisdict)\n",
    "\n",
    "thisdict.update({\"year\":\"1998\"})\n",
    "print(\"updated\", thisdict)"
   ]
  },
  {
   "cell_type": "code",
   "execution_count": 21,
   "id": "a30a3406-63e9-4a16-b020-67781715c078",
   "metadata": {},
   "outputs": [
    {
     "name": "stdout",
     "output_type": "stream",
     "text": [
      "{}\n"
     ]
    }
   ],
   "source": [
    "thisdict.pop('year') #pops the key-value pair\n",
    "print(thisdict)\n",
    "\n"
   ]
  },
  {
   "cell_type": "code",
   "execution_count": 22,
   "id": "bf05e016-d913-48be-8d08-ef07eaebbbc8",
   "metadata": {},
   "outputs": [
    {
     "name": "stdout",
     "output_type": "stream",
     "text": [
      "{}\n"
     ]
    }
   ],
   "source": [
    "thisdict.clear() #empties the dictionary\n",
    "print(thisdict)"
   ]
  },
  {
   "cell_type": "code",
   "execution_count": 27,
   "id": "488a1fdc-2c50-4572-8e7e-5e55eaaac46f",
   "metadata": {},
   "outputs": [
    {
     "name": "stdout",
     "output_type": "stream",
     "text": [
      "Ford\n",
      "Mustang\n",
      "1998\n",
      "['red', 'yellow', 'classic black']\n",
      "brand\n",
      "model\n",
      "year\n",
      "colors\n",
      "brand Ford\n",
      "model Mustang\n",
      "year 1998\n",
      "colors ['red', 'yellow', 'classic black']\n"
     ]
    }
   ],
   "source": [
    "thisdict={ \"brand\":\"Ford\",\n",
    "          \"model\": \"Mustang\",\n",
    "          \"year\": \"1998\",\n",
    "         \"colors\": ['red','yellow','classic black']}\n",
    "\n",
    "for x in thisdict.values(): #prints the values\n",
    "    print(x)\n",
    "\n",
    "for x in thisdict: #prints the keys\n",
    "    print(x)\n",
    "\n",
    "for x, y in thisdict.items(): #print key and values\n",
    "    print(x,y)"
   ]
  },
  {
   "cell_type": "code",
   "execution_count": 31,
   "id": "6e37cc21-0542-4ef0-99e8-99dc88f39f8a",
   "metadata": {},
   "outputs": [
    {
     "name": "stdout",
     "output_type": "stream",
     "text": [
      "{'brand': 'Ford', 'model': 'Mustang', 'year': '1998', 'colors': ['red', 'yellow', 'classic black']}\n",
      "{'brand': 'Ford', 'model': 'Mustang', 'year': '1998', 'colors': ['red', 'yellow', 'classic black']}\n"
     ]
    }
   ],
   "source": [
    "#copy dictionaries\n",
    "\n",
    "mydict=thisdict.copy()\n",
    "print(mydict)\n",
    "\n",
    "\n",
    "newdict=dict(thisdict)\n",
    "print(newdict)"
   ]
  },
  {
   "cell_type": "code",
   "execution_count": null,
   "id": "52341fe1-3294-4675-a2f0-8a97fb8fd3ed",
   "metadata": {},
   "outputs": [],
   "source": []
  }
 ],
 "metadata": {
  "kernelspec": {
   "display_name": "Python 3 (ipykernel)",
   "language": "python",
   "name": "python3"
  },
  "language_info": {
   "codemirror_mode": {
    "name": "ipython",
    "version": 3
   },
   "file_extension": ".py",
   "mimetype": "text/x-python",
   "name": "python",
   "nbconvert_exporter": "python",
   "pygments_lexer": "ipython3",
   "version": "3.13.2"
  }
 },
 "nbformat": 4,
 "nbformat_minor": 5
}
